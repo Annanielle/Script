{
 "cells": [
  {
   "cell_type": "code",
   "execution_count": 1,
   "metadata": {},
   "outputs": [],
   "source": [
    "# 01                    \"\"\"Delete description from fasta file\"\"\"\n",
    "with open(\"ecoli_10k.fasta\", \"r\") as genome:\n",
    "    lines = genome.readlines()\n",
    "with open(\"genome_ed.fasta\", 'w') as genome_ed:\n",
    "    for line in lines:\n",
    "        if line.find(\">\") != -1:         \n",
    "            pass\n",
    "        else:\n",
    "            genome_ed.write(line)\n"
   ]
  },
  {
   "cell_type": "code",
   "execution_count": 2,
   "metadata": {},
   "outputs": [],
   "source": [
    "# 02                    \"\"\"Indicates positions of start codons\"\"\"\n",
    "start = 'ATG'\n",
    "with open(\"genome_ed.fasta\", \"r\") as fasta:\n",
    "    genome = fasta.read().replace('\\n', '')\n",
    "    \n",
    "def start_position(start, genome):\n",
    "    \"\"\"Indicates ATG positions in a Genome\"\"\"\n",
    "    position = [] # output variable\n",
    "    for char in range(len(genome) - len(start) + 1):\n",
    "        if genome[char : char+len(start)] == start:\n",
    "            position.append(char)\n",
    "    return position\n",
    "\n",
    "start_pos = (start_position(start, genome))\n"
   ]
  },
  {
   "cell_type": "code",
   "execution_count": 3,
   "metadata": {},
   "outputs": [],
   "source": [
    "# 03                    \"\"\"Indicates positions of stop codons\"\"\"\n",
    "\n",
    "stop = [\"TAA\", \"TAG\", \"TGA\"]\n",
    "\n",
    "def stop_position(stop, genome):\n",
    "    \"\"\"Indicates positions of stop codons\"\"\"\n",
    "    position = []          # output variable\n",
    "    for char in range(len(genome) - len(stop) + 1):    # len(stop) works only then number of elements in stop == 3\n",
    "        for s in stop:\n",
    "            if genome[char : char+len(stop)] == s:\n",
    "                position.append(char)\n",
    "    return position\n",
    "\n",
    "stop_pos = stop_position(stop, genome)"
   ]
  },
  {
   "cell_type": "code",
   "execution_count": 4,
   "metadata": {},
   "outputs": [],
   "source": [
    "# 04                    \"\"\"Write all finded ORFs\"\"\"\n",
    "\n",
    "def orf_position(start, stop, seq):\n",
    "    sequences = []\n",
    "    for x in start:\n",
    "        for y in stop:\n",
    "            if x < y and (y - x) % 3 == 0:\n",
    "                sequences.append([x,y,seq[x : (y + 3)]])\n",
    "                break\n",
    "        continue\n",
    "    return sequences\n",
    "\n",
    "direct_genome_orfs = orf_position(start_pos, stop_pos, genome)"
   ]
  },
  {
   "cell_type": "code",
   "execution_count": 5,
   "metadata": {},
   "outputs": [],
   "source": [
    "# 05                    \"\"\"Reverse genome\"\"\"\n",
    "def reverse(pattern):\n",
    "    \"\"\"Inverts the sequence\"\"\"\n",
    "    rev = []\n",
    "    for char in pattern:\n",
    "        rev.insert(0, char)\n",
    "    return ''.join(rev)\n",
    "\n",
    "reversed_genome = reverse(genome)"
   ]
  },
  {
   "cell_type": "code",
   "execution_count": 6,
   "metadata": {},
   "outputs": [],
   "source": [
    "# 06                    \"\"\"Builds a complementary strand\"\"\"\n",
    "def complement(pattern):\n",
    "    \"\"\"builds a complementary strand for the sequence\"\"\"\n",
    "    comp = \"\"\n",
    "    basepair = {\"A\":\"T\", \"T\":\"A\", \"C\":\"G\", \"G\":\"C\"}\n",
    "    for char in pattern:\n",
    "        comp += basepair.get(char)        #get() returns the value for the specified key\n",
    "    return comp\n",
    "\n",
    "compl_rev_genome = complement(reversed_genome)"
   ]
  },
  {
   "cell_type": "code",
   "execution_count": 7,
   "metadata": {},
   "outputs": [],
   "source": [
    "# 07                    \"\"\"Start and Stop positions in complementary reversed strand\"\"\"\n",
    "start_pos_compl = start_position(start, compl_rev_genome)\n",
    "stop_pos_compl = stop_position(stop, compl_rev_genome)"
   ]
  },
  {
   "cell_type": "code",
   "execution_count": 8,
   "metadata": {},
   "outputs": [],
   "source": [
    "# 08                    \"\"\"ORFs in complementary reversed strand\"\"\"\n",
    "\n",
    "compl_starnd_orf = orf_position(start_pos_compl, stop_pos_compl, compl_rev_genome)"
   ]
  },
  {
   "cell_type": "code",
   "execution_count": null,
   "metadata": {},
   "outputs": [],
   "source": []
  }
 ],
 "metadata": {
  "kernelspec": {
   "display_name": "Python 3 (ipykernel)",
   "language": "python",
   "name": "python3"
  },
  "language_info": {
   "codemirror_mode": {
    "name": "ipython",
    "version": 3
   },
   "file_extension": ".py",
   "mimetype": "text/x-python",
   "name": "python",
   "nbconvert_exporter": "python",
   "pygments_lexer": "ipython3",
   "version": "3.9.5"
  }
 },
 "nbformat": 4,
 "nbformat_minor": 4
}
